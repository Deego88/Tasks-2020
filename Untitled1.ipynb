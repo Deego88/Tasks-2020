{
 "cells": [
  {
   "cell_type": "code",
   "execution_count": 11,
   "metadata": {},
   "outputs": [
    {
     "data": {
      "text/plain": [
       "<function __main__.dicerolls(k, n)>"
      ]
     },
     "execution_count": 11,
     "metadata": {},
     "output_type": "execute_result"
    }
   ],
   "source": [
    "# import random module\n",
    "import random\n",
    "\n",
    "#k= input(\"please input number of die to roll:\")\n",
    "#n= input(\"please input the number of times to roll the dice:\")\n",
    "\n",
    "#create dicerolls function with K(no.of Dice) and N(no.of Rolls) as inputs\n",
    "def dicerolls(k, n):\n",
    "    # set values for dice 1-6\n",
    "    min_val = 1\n",
    "    max_val = 6\n",
    "    if k > 1:\n",
    "        min_val = k * 1\n",
    "        max_val = k * 6\n",
    "    \n",
    "    # create a dict to store values in\n",
    "    dice = {i:0 for i in range (min_val, max_val + 1)}\n",
    "    \n",
    "    # create a loop\n",
    "    for i in range (n):\n",
    "        dice[random.randint(min_val, max_val)] +=1\n",
    "    return(dice)\n",
    "\n",
    "dicerolls "
   ]
  },
  {
   "cell_type": "code",
   "execution_count": 14,
   "metadata": {},
   "outputs": [
    {
     "data": {
      "text/plain": [
       "{2: 99,\n",
       " 3: 91,\n",
       " 4: 110,\n",
       " 5: 90,\n",
       " 6: 79,\n",
       " 7: 84,\n",
       " 8: 74,\n",
       " 9: 95,\n",
       " 10: 107,\n",
       " 11: 82,\n",
       " 12: 89}"
      ]
     },
     "execution_count": 14,
     "metadata": {},
     "output_type": "execute_result"
    }
   ],
   "source": [
    "# import random module\n",
    "import random\n",
    "import numpy\n",
    "\n",
    "#k= input(\"please input number of die to roll:\")\n",
    "#n= input(\"please input the number of times to roll the dice:\")\n",
    "k = 2\n",
    "n = 1000\n",
    "\n",
    "#create dicerolls function with K(no.of Dice) and N(no.of Rolls) as inputs\n",
    "def dicerolls(k, n):\n",
    "    k = 2\n",
    "    n = 1000\n",
    "    # set values for dice 1-6\n",
    "    min_val = 1\n",
    "    max_val = 6\n",
    "    if k > 1:\n",
    "        \n",
    "        min_val = k * 1\n",
    "        max_val = k * 6\n",
    "    \n",
    "    # create a dict to store values in\n",
    "    dice = {i:0 for i in range (min_val, max_val + 1)}\n",
    "    \n",
    "    # create a loop\n",
    "    for i in range (n):\n",
    "        dice[random.randint(min_val, max_val)] +=1\n",
    "    return(dice)\n",
    "dicerolls(k, n)"
   ]
  },
  {
   "cell_type": "code",
   "execution_count": null,
   "metadata": {},
   "outputs": [],
   "source": [
    "\n",
    "\n",
    "\n"
   ]
  }
 ],
 "metadata": {
  "kernelspec": {
   "display_name": "Python 3",
   "language": "python",
   "name": "python3"
  },
  "language_info": {
   "codemirror_mode": {
    "name": "ipython",
    "version": 3
   },
   "file_extension": ".py",
   "mimetype": "text/x-python",
   "name": "python",
   "nbconvert_exporter": "python",
   "pygments_lexer": "ipython3",
   "version": "3.8.5"
  }
 },
 "nbformat": 4,
 "nbformat_minor": 4
}
